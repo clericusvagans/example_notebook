{
 "cells": [
  {
   "cell_type": "markdown",
   "metadata": {},
   "source": [
    "**Uncomment the following lines (by deleting the leading `#`) if you are running this in Colab. (Thanks to Jake VanderPlas for the tip!)**"
   ]
  },
  {
   "cell_type": "code",
   "execution_count": 1,
   "metadata": {},
   "outputs": [],
   "source": [
    "# !pip install biopython\n",
    "# !pip install folium\n",
    "# !curl -O https://raw.githubusercontent.com/jperkel/example_notebook/master/NC_005816.gb"
   ]
  },
  {
   "cell_type": "markdown",
   "metadata": {},
   "source": [
    "This simple notebook demonstrates how users can interleave text, code, and results in a single document. We start with a simple calculation -- computing the first 25 numbers in the Fibonacci sequence, where each value equals the sum of the two previous values. The Jupyter notebook allows us to express that mathematically, using the typesetting language $\\LaTeX{}$: $$F_n = F_{n-1} + F_{n-2}$$\n",
    "Thus, the sequence is: 0, 1, 1, 2, 3, 5, 8, ..."
   ]
  },
  {
   "cell_type": "markdown",
   "metadata": {},
   "source": [
    "The first cell contains an IPython 'magic' code, '%matplotlib', which allows the notebook to display plots inline, in the body of the notebook."
   ]
  },
  {
   "cell_type": "code",
   "execution_count": 2,
   "metadata": {},
   "outputs": [],
   "source": [
    "%matplotlib inline"
   ]
  },
  {
   "cell_type": "code",
   "execution_count": 3,
   "metadata": {},
   "outputs": [],
   "source": [
    "import matplotlib.pyplot as plt"
   ]
  },
  {
   "cell_type": "code",
   "execution_count": 4,
   "metadata": {},
   "outputs": [
    {
     "name": "stdout",
     "output_type": "stream",
     "text": [
      "[0, 1, 1, 2, 3, 5, 8, 13, 21, 34, 55, 89, 144, 233, 377, 610, 987, 1597, 2584, 4181, 6765, 10946, 17711, 28657, 46368]\n"
     ]
    }
   ],
   "source": [
    "# calculate the first 25 Fibonacci numbers\n",
    "f1 = 0\n",
    "f2 = 1\n",
    "ar = [f1, f2] # a list to hold the computed values. We know the first two numbers\n",
    "\n",
    "# we only need to run our calculation 23 times, because positions 1 and 2 are known\n",
    "for i in range (23):\n",
    "    f3 = f1 + f2\n",
    "    ar.append (f3)\n",
    "    f1 = f2\n",
    "    f2 = f3\n",
    "    \n",
    "print (ar) # below, you see the output of the code itself."
   ]
  },
  {
   "cell_type": "markdown",
   "metadata": {},
   "source": [
    "Plot the data"
   ]
  },
  {
   "cell_type": "code",
   "execution_count": 5,
   "metadata": {},
   "outputs": [
    {
     "data": {
      "image/png": "[encoded data removed]",
      "text/plain": [
       "<Figure size 432x288 with 1 Axes>"
      ]
     },
     "metadata": {
      "needs_background": "light"
     },
     "output_type": "display_data"
    }
   ],
   "source": [
    "fig, ax = plt.subplots()\n",
    "ax.plot (range(25), ar, \"ro\")\n",
    "## uncomment the following call to ax.plot() (by removing the leading '#') and select \n",
    "## 'Cell > Run All' (in Binder) or 'Run > Run All Cells' (Jupyter) to change the graph below\n",
    "# ax.plot (range(25), ar)\n",
    "ax.set (xlabel = \"Sequence No.\", ylabel = \"Fibonacci No.\", \n",
    "       title = \"The First 25 Fibonacci Numbers\")\n",
    "plt.show()"
   ]
  },
  {
   "cell_type": "markdown",
   "metadata": {},
   "source": [
    "Anything you can do programmatically, can be documented in a notebook. Here we'll do some simple sequence analysis with Biopython. The following example is adapted from the [Biopython tutorial](http://biopython.org/DIST/docs/tutorial/Tutorial.html). "
   ]
  },
  {
   "cell_type": "markdown",
   "metadata": {},
   "source": [
    "First, we'll read in a Genbank-formatted file, which represents a circular DNA, called a plasmid, from the bacterium, *Yersinia pestis*. "
   ]
  },
  {
   "cell_type": "code",
   "execution_count": 6,
   "metadata": {},
   "outputs": [
    {
     "data": {
      "text/plain": [
       "Seq('TGTAACGAACGGTGCAATAGTGATCCACACCCAACGCCTGAAATCAGATCCAGG...CTG', IUPACAmbiguousDNA())"
      ]
     },
     "execution_count": 6,
     "metadata": {},
     "output_type": "execute_result"
    }
   ],
   "source": [
    "from Bio import SeqIO\n",
    "\n",
    "record = SeqIO.read(\"NC_005816.gb\", \"genbank\")\n",
    "record.seq"
   ]
  },
  {
   "cell_type": "markdown",
   "metadata": {},
   "source": [
    "How long is the DNA, and how which genes does it encode?"
   ]
  },
  {
   "cell_type": "code",
   "execution_count": 7,
   "metadata": {},
   "outputs": [
    {
     "name": "stdout",
     "output_type": "stream",
     "text": [
      "Length: 9609 bp\n",
      "No. features: 41 \n",
      "\n",
      "Feat. 3: putative transposase\n",
      "Feat. 8: transposase/IS protein\n",
      "Feat. 15: putative replication regulatory protein\n",
      "Feat. 18: hypothetical protein\n",
      "Feat. 21: pesticin immunity protein\n",
      "Feat. 23: pesticin\n",
      "Feat. 29: hypothetical protein\n",
      "Feat. 32: outer membrane protease\n",
      "Feat. 35: putative transcriptional regulator\n",
      "Feat. 38: hypothetical protein\n"
     ]
    }
   ],
   "source": [
    "print(\"Length:\", len(record.seq), \"bp\")\n",
    "print(\"No. features:\", len(record.features),\"\\n\")\n",
    "\n",
    "for i,feat in enumerate (record.features):\n",
    "    if (feat.type == \"CDS\"):\n",
    "        product = feat.qualifiers['product'][0]\n",
    "        print (\"Feat. %d: %s\" % (i, product))"
   ]
  },
  {
   "cell_type": "markdown",
   "metadata": {},
   "source": [
    "This plasmid encodes 41 features, including 10 genes. Let's focus on feature #18, which encodes a 'hypothetical protein'."
   ]
  },
  {
   "cell_type": "code",
   "execution_count": 8,
   "metadata": {},
   "outputs": [
    {
     "name": "stdout",
     "output_type": "stream",
     "text": [
      "Gene location\n",
      "Start: 3485 \n",
      "End: 3857\n",
      "GeneID: ['GI:45478715', 'GeneID:2767720']\n"
     ]
    }
   ],
   "source": [
    "feat = record.features[18]\n",
    "print (\"Gene location\\nStart:\", feat.location.start, \"\\nEnd:\", feat.location.end)\n",
    "print (\"GeneID:\", feat.qualifiers.get(\"db_xref\"))"
   ]
  },
  {
   "cell_type": "markdown",
   "metadata": {},
   "source": [
    "These data show us that the gene is located between bases 3485 and 3857. Let's retrieve that segment and translate it."
   ]
  },
  {
   "cell_type": "code",
   "execution_count": 9,
   "metadata": {},
   "outputs": [
    {
     "name": "stdout",
     "output_type": "stream",
     "text": [
      "VSKKRRPQKRPRRRRFFHRLRPPDEHHKNRRSSQRWRNPTGLKDTRRFPPEAPSCALLFRPCRLPDTSPPFSLREAWRFLIAHAVGISVRCRSFAPSWAVCTNPPFSPTTAPYPVTIVLSPTR*\n"
     ]
    }
   ],
   "source": [
    "my_gene = record[3485:3857]\n",
    "print (my_gene.seq.translate(table=\"Bacterial\"))"
   ]
  },
  {
   "cell_type": "markdown",
   "metadata": {},
   "source": [
    "Now, let's find out more about this gene, using the NCBI Entrez database. We learned the accession number above: `GeneID: ['GI:45478715', 'GeneID:2767720']`.\n",
    "\n",
    "20 May 2020: Updated the following two cells to reflect changes in NCBI's Entrez database. "
   ]
  },
  {
   "cell_type": "code",
   "execution_count": 10,
   "metadata": {},
   "outputs": [],
   "source": [
    "from Bio import Entrez\n",
    "from Bio import SeqIO"
   ]
  },
  {
   "cell_type": "code",
   "execution_count": 11,
   "metadata": {},
   "outputs": [
    {
     "name": "stdout",
     "output_type": "stream",
     "text": [
      "ID: NP_995570.1\n",
      "Name: NP_995570\n",
      "Description: hypothetical protein YP_pPCP04 (plasmid) [Yersinia pestis biovar Microtus str. 91001]\n",
      "Database cross-references: BioProject:PRJNA58037\n",
      "Number of features: 3\n",
      "/topology=linear\n",
      "/data_file_division=CON\n",
      "/date=16-DEC-2014\n",
      "/accessions=['NP_995570']\n",
      "/sequence_version=1\n",
      "/db_source=REFSEQ: accession NC_005816.1\n",
      "/keywords=['RefSeq']\n",
      "/source=Yersinia pestis biovar Microtus str. 91001\n",
      "/organism=Yersinia pestis biovar Microtus str. 91001\n",
      "/taxonomy=['Bacteria', 'Proteobacteria', 'Gammaproteobacteria', 'Enterobacteriales', 'Enterobacteriaceae', 'Yersinia']\n",
      "/references=[Reference(title='Genetics of metabolic variations between Yersinia pestis biovars and the proposal of a new biovar, microtus', ...), Reference(title='Complete genome sequence of Yersinia pestis strain 91001, an isolate avirulent to humans', ...), Reference(title='Direct Submission', ...), Reference(title='Direct Submission', ...)]\n",
      "/comment=PROVISIONAL REFSEQ: This record has not yet been subject to final\n",
      "NCBI review. The reference sequence was derived from AAS58761.\n",
      "Method: conceptual translation.\n",
      "/contig=join(WP_011172039.1:1..123)\n",
      "Seq('MSKKRRPQKRPRRRRFFHRLRPPDEHHKNRRSSQRWRNPTGLKDTRRFPPEAPS...PTR', IUPACProtein())\n"
     ]
    }
   ],
   "source": [
    "Entrez.email = \"A.N.Other@example.com\"  # Always tell NCBI who you are\n",
    "with Entrez.efetch (db=\"protein\",rettype=\"gb\",retmode=\"text\",id=\"45478715\") as handle:\n",
    "    print (SeqIO.read(handle, \"gb\"))\n",
    "# handle = Entrez.efetch (db=\"nucleotide\",id=\"45478715\",rettype=\"gb\",retmode=\"text\")\n",
    "# print (handle.read())"
   ]
  },
  {
   "cell_type": "markdown",
   "metadata": {},
   "source": [
    "Jupyter also supports interactive data exploration. Here we'll add an interactive map, just as in our June [mapping feature](https://www.nature.com/articles/d41586-018-05331-6) -- something you might do when working with geospatial data. This requires the Python Leaflet library, folium. "
   ]
  },
  {
   "cell_type": "code",
   "execution_count": 12,
   "metadata": {},
   "outputs": [],
   "source": [
    "import folium"
   ]
  },
  {
   "cell_type": "markdown",
   "metadata": {},
   "source": [
    "Now we create a simple map: a few points in London, Oxford and Cambridge, overlaid on either a street map, or on a map of geological data provided by the [Macrostrat Project](https://macrostrat.org/). "
   ]
  },
  {
   "cell_type": "code",
   "execution_count": 13,
   "metadata": {},
   "outputs": [],
   "source": [
    "coords = { \n",
    "    0: { \"name\": \"Nature\", \"lat\": 51.533925, \"long\": -0.121553 },\n",
    "    1: { \"name\": \"Francis Crick Institite\", \"lat\": 51.531877, \"long\": -0.128767 },\n",
    "    2: { \"name\": \"MRC Laboratory for Molecular Cell Biology\", \"lat\": 51.524435, \"long\": -0.132495 },\n",
    "    3: { \"name\": \"Kings College London\", \"lat\": 51.511573, \"long\": -0.116083 },\n",
    "    4: { \"name\": \"Imperial College London\", \"lat\": 51.498780, \"long\": -0.174888 },\n",
    "    5: { \"name\": \"Cambridge University\", \"lat\": 52.206960, \"long\": 0.115034 },\n",
    "    6: { \"name\": \"Oxford University\", \"lat\": 51.754843, \"long\": -1.254302 },\n",
    "    7: { \"name\": \"Platform 9 3/4\", \"lat\": 51.532349, \"long\": -0.123806 }\n",
    "}"
   ]
  },
  {
   "cell_type": "code",
   "execution_count": 14,
   "metadata": {},
   "outputs": [
    {
     "data": {
      "text/plain": [
       "<folium.features.LatLngPopup at 0x11e5b2310>"
      ]
     },
     "execution_count": 14,
     "metadata": {},
     "output_type": "execute_result"
    }
   ],
   "source": [
    "m = folium.Map(location = [51.8561, -0.2966], tiles = 'CartoDB positron', zoom_start = 9)\n",
    "\n",
    "# add the locations to the map\n",
    "for key in coords.keys():\n",
    "    folium.CircleMarker(\n",
    "    location=[coords[key]['lat'], coords[key]['long']],\n",
    "    popup=coords[key]['name'],\n",
    "    color=('crimson' if coords[key]['name'] == 'Nature' else 'blue'),\n",
    "    fill=False,\n",
    "    ).add_to(m)\n",
    "\n",
    "# pull in the Macrostrat tile layer\n",
    "folium.TileLayer(tiles='https://tiles.macrostrat.org/carto/{z}/{x}/{y}.png', \n",
    "                 attr='Macrostrat', name='Macrostrat').add_to(m)\n",
    "folium.LayerControl().add_to(m) # allow user to switch between layers\n",
    "folium.LatLngPopup().add_to(m) # click on the map to get Lat/Long in a popup"
   ]
  },
  {
   "cell_type": "markdown",
   "metadata": {},
   "source": [
    "Draw the map. **Note that this map is interactive**: you can zoom, pan, click the points of interest, and alternate between the two layers (by clicking on the tiles icon in the upper-right corner of the map). If you click anywhere on the map, a popup will appear showing the latitude and longitude of that position."
   ]
  },
  {
   "cell_type": "code",
   "execution_count": 15,
   "metadata": {},
   "outputs": [
    {
     "data": {
      "text/html": [
       "<div style=\"width:100%;\"><div style=\"position:relative;width:100%;height:0;padding-bottom:60%;\"><span style=\"color:#565656\">Make this Notebook Trusted to load map: File -> Trust Notebook</span><iframe src=\"about:blank\" style=\"position:absolute;width:100%;height:100%;left:0;top:0;border:none !important;\" data-html=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 onload=\"this.contentDocument.open();this.contentDocument.write(atob(this.getAttribute('data-html')));this.contentDocument.close();\" allowfullscreen webkitallowfullscreen mozallowfullscreen></iframe></div></div>"
      ],
      "text/plain": [
       "<folium.folium.Map at 0x11e5a94d0>"
      ]
     },
     "execution_count": 15,
     "metadata": {},
     "output_type": "execute_result"
    }
   ],
   "source": [
    "m"
   ]
  },
  {
   "cell_type": "markdown",
   "metadata": {},
   "source": [
    "Document our session, for [computational reproducibility](https://www.nature.com/articles/d41586-018-05990-5)!"
   ]
  },
  {
   "cell_type": "code",
   "execution_count": 16,
   "metadata": {},
   "outputs": [
    {
     "name": "stdout",
     "output_type": "stream",
     "text": [
      "{'commit_hash': '8bda98619',\n",
      " 'commit_source': 'installation',\n",
      " 'default_encoding': 'UTF-8',\n",
      " 'ipython_path': '/opt/anaconda3/lib/python3.7/site-packages/IPython',\n",
      " 'ipython_version': '7.12.0',\n",
      " 'os_name': 'posix',\n",
      " 'platform': 'Darwin-18.7.0-x86_64-i386-64bit',\n",
      " 'sys_executable': '/opt/anaconda3/bin/python',\n",
      " 'sys_platform': 'darwin',\n",
      " 'sys_version': '3.7.6 (default, Jan  8 2020, 13:42:34) \\n'\n",
      "                '[Clang 4.0.1 (tags/RELEASE_401/final)]'}\n"
     ]
    }
   ],
   "source": [
    "import IPython\n",
    "print(IPython.sys_info())"
   ]
  },
  {
   "cell_type": "code",
   "execution_count": 17,
   "metadata": {},
   "outputs": [
    {
     "name": "stdout",
     "output_type": "stream",
     "text": [
      "biopython==1.76\n",
      "folium==0.11.0\n",
      "matplotlib==3.1.3\n"
     ]
    }
   ],
   "source": [
    "!pip freeze | grep -E 'folium|matplotlib|biopython'"
   ]
  },
  {
   "cell_type": "code",
   "execution_count": null,
   "metadata": {},
   "outputs": [],
   "source": []
  }
 ],
 "metadata": {
  "kernelspec": {
   "display_name": "Python 3",
   "language": "python",
   "name": "python3"
  },
  "language_info": {
   "codemirror_mode": {
    "name": "ipython",
    "version": 3
   },
   "file_extension": ".py",
   "mimetype": "text/x-python",
   "name": "python",
   "nbconvert_exporter": "python",
   "pygments_lexer": "ipython3",
   "version": "3.7.6"
  }
 },
 "nbformat": 4,
 "nbformat_minor": 4
}
